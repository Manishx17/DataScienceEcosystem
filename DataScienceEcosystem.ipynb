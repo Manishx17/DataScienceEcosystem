{
 "cells": [
  {
   "cell_type": "markdown",
   "id": "f4e82ef9-e26f-4829-8424-d201b28fac38",
   "metadata": {
    "editable": true,
    "panel-layout": {
     "height": 60.57500457763672,
     "visible": true,
     "width": 100
    },
    "slideshow": {
     "slide_type": ""
    },
    "tags": []
   },
   "source": [
    "# Data Science Tools and Ecosystem"
   ]
  },
  {
   "cell_type": "markdown",
   "id": "06eb1bcf-b744-4015-af80-302736d127ac",
   "metadata": {},
   "source": [
    "In this notebook, Data Science Tools and Ecosystem are summarized."
   ]
  },
  {
   "cell_type": "markdown",
   "id": "c4135040-8d02-4ef3-a2e8-c5984cfb054a",
   "metadata": {},
   "source": [
    "Some of the popular languages that Data Scientists use are:\n",
    "1. Python\n",
    "2. Julia\n",
    "3. Java\n",
    "4. R\n",
    "5. SQL"
   ]
  },
  {
   "cell_type": "markdown",
   "id": "0fce571f-3003-41c2-a50e-531438f484c2",
   "metadata": {},
   "source": [
    "Some of the commonly used libraries used by Data Scientists include:\n",
    "1. NumPy\n",
    "2. Matplotlib\n",
    "3. Pandas\n",
    "4. Seaborn\n",
    "5. Sci-Kit learn"
   ]
  },
  {
   "cell_type": "markdown",
   "id": "c7e095cc-6aa1-4d30-ba97-a2fd0d99b490",
   "metadata": {},
   "source": [
    "|Data Science Tools|\n",
    "|---|\n",
    "|Apache Hadoop|\n",
    "|TensorFlow|"
   ]
  },
  {
   "cell_type": "markdown",
   "id": "ee88622b-09fb-446f-94d8-305f6c693844",
   "metadata": {},
   "source": [
    "### Below are a few examples of evaluating arithmetic expressions in Python."
   ]
  },
  {
   "cell_type": "code",
   "execution_count": 20,
   "id": "b03f519f-9a4c-4f4e-b096-026dd746c6d0",
   "metadata": {},
   "outputs": [
    {
     "data": {
      "text/plain": [
       "17"
      ]
     },
     "execution_count": 20,
     "metadata": {},
     "output_type": "execute_result"
    }
   ],
   "source": [
    "#This a simple arithmetic expression to mutiply then add integers.\n",
    "(3*4)+5"
   ]
  },
  {
   "cell_type": "code",
   "execution_count": 22,
   "id": "74b694d5-16a6-419a-aa1c-d4a23f7cd1c2",
   "metadata": {},
   "outputs": [
    {
     "data": {
      "text/plain": [
       "3.3333333333333335"
      ]
     },
     "execution_count": 22,
     "metadata": {},
     "output_type": "execute_result"
    }
   ],
   "source": [
    "#This will convert 200 minutes to hours by diving by 60.\n",
    "200/60"
   ]
  },
  {
   "cell_type": "markdown",
   "id": "d7533c5b-2553-4b4c-8d33-6965b75cb9b4",
   "metadata": {},
   "source": [
    "__Objectives__\n",
    "\n",
    "* List popular languages for Data Science\n",
    "* List popular libraries for Data Science\n",
    "* List of Well Known Data Science Tools\n",
    "* How to Provide Comments in Cell"
   ]
  },
  {
   "cell_type": "markdown",
   "id": "d73370a5-15c7-4f1a-bb63-cd7c810661ec",
   "metadata": {},
   "source": [
    "## Author\n",
    "Manish N"
   ]
  }
 ],
 "metadata": {
  "kernelspec": {
   "display_name": "Python 3 (ipykernel)",
   "language": "python",
   "name": "python3"
  },
  "language_info": {
   "codemirror_mode": {
    "name": "ipython",
    "version": 3
   },
   "file_extension": ".py",
   "mimetype": "text/x-python",
   "name": "python",
   "nbconvert_exporter": "python",
   "pygments_lexer": "ipython3",
   "version": "3.12.4"
  },
  "panel-cell-order": [
   "f4e82ef9-e26f-4829-8424-d201b28fac38"
  ]
 },
 "nbformat": 4,
 "nbformat_minor": 5
}
